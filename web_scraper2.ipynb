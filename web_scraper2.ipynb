{
 "cells": [
  {
   "cell_type": "code",
   "execution_count": null,
   "metadata": {},
   "outputs": [],
   "source": [
    "pip install psycopg2-binary"
   ]
  },
  {
   "cell_type": "code",
   "execution_count": null,
   "metadata": {},
   "outputs": [],
   "source": [
    "pip install sqlalchemy"
   ]
  },
  {
   "cell_type": "code",
   "execution_count": null,
   "metadata": {},
   "outputs": [],
   "source": [
    "pip install boto3"
   ]
  },
  {
   "cell_type": "code",
   "execution_count": null,
   "metadata": {},
   "outputs": [],
   "source": [
    "pip install selenium"
   ]
  },
  {
   "cell_type": "code",
   "execution_count": 1,
   "metadata": {},
   "outputs": [],
   "source": [
    "from selenium import webdriver \n",
    "from selenium.common.exceptions import NoSuchElementException\n",
    "from selenium.webdriver.chrome.options import Options\n",
    "import time\n",
    "import uuid\n",
    "import os\n",
    "import json\n",
    "import unittest\n",
    "import pandas as pd\n",
    "import web_scraper\n",
    "from pathlib import Path"
   ]
  },
  {
   "cell_type": "code",
   "execution_count": null,
   "metadata": {},
   "outputs": [],
   "source": [
    "def cookies() -> webdriver.Chrome:\n",
    "    driver = webdriver.Chrome()\n",
    "    URL = 'https://www.asos.com/men/new-in/new-in-clothing/cat/?cid=6993&nlid=mw|clothing|shop+by+product|new+in'\n",
    "    driver.get(URL)\n",
    "    time.sleep(3)\n",
    "    try:\n",
    "        accept_cookies_button = driver.find_element_by_xpath('//*[@id=\"onetrust-accept-btn-handler\"]')\n",
    "        accept_cookies_button.click()\n",
    "        time.sleep(1)\n",
    "    except AttributeError: # If you have the latest version of selenium, the code above won't run because the \"switch_to_frame\" is deprecated\n",
    "        driver.switch_to.frame('onetrust-consent-sdk') # This is the id of the frame\n",
    "        accept_cookies_button = driver.find_element_by_xpath('//*[@id=\"onetrust-accept-btn-handler\"]')\n",
    "        accept_cookies_button.click()\n",
    "        time.sleep(1)\n",
    "\n",
    "    except:\n",
    "        pass\n",
    "\n",
    "    return driver "
   ]
  },
  {
   "cell_type": "code",
   "execution_count": null,
   "metadata": {},
   "outputs": [],
   "source": [
    "cookies()"
   ]
  },
  {
   "cell_type": "code",
   "execution_count": null,
   "metadata": {},
   "outputs": [],
   "source": [
    "def get_links(driver: webdriver.Chrome) ->list:\n",
    "    driver = cookies()\n",
    "    clothes_container = driver.find_element_by_xpath('//*[@class=\"RIQzlgo\"]')\n",
    "    clothes_list = clothes_container.find_elements_by_xpath('./article')\n",
    "    link_list = []\n",
    "\n",
    "    for clothes in clothes_list:\n",
    "        a_tag = clothes.find_element_by_tag_name('a')\n",
    "        link = a_tag.get_attribute('href')\n",
    "        link_list.append(link)\n",
    "        \n",
    "    print(f'There are {len(link_list)} items of clothing in this page')\n",
    "    return link_list"
   ]
  },
  {
   "cell_type": "code",
   "execution_count": null,
   "metadata": {},
   "outputs": [],
   "source": [
    "get_links(cookies)"
   ]
  },
  {
   "cell_type": "code",
   "execution_count": null,
   "metadata": {},
   "outputs": [],
   "source": [
    "def create_id():\n",
    "    id_list = []\n",
    "    for id in range (72):\n",
    "        id = str(uuid.uuid4())\n",
    "        id_list.append(id)\n",
    "    return id_list"
   ]
  },
  {
   "cell_type": "code",
   "execution_count": null,
   "metadata": {},
   "outputs": [],
   "source": [
    "def get_data():\n",
    "    clothes = []\n",
    "    description_list = []\n",
    "    price_list = []\n",
    "    colour_list = []\n",
    "    driver = cookies()\n",
    "    clothes.extend(get_links(driver))\n",
    "\n",
    "    for links in clothes:\n",
    "        driver.get(links)\n",
    "        description = driver.find_element_by_tag_name('h1').text\n",
    "        description_list.append(description)\n",
    "        price = driver.find_element_by_xpath('//span[@data-id=\"current-price\"]').text\n",
    "        price_list.append(price)\n",
    "        colour = driver.find_element_by_xpath('//span[@class=\"product-colour\"]').text\n",
    "        colour_list.append(colour)\n",
    "    \n",
    "    return price_list, colour_list, description_list"
   ]
  },
  {
   "cell_type": "code",
   "execution_count": null,
   "metadata": {},
   "outputs": [],
   "source": [
    "def create_dict(id_list, description, price, colour):\n",
    "    id_dict = {}\n",
    "\n",
    "    for i in id_list:\n",
    "        id_dict[i] = [description, price, colour]\n",
    "\n",
    "    return id_dict"
   ]
  },
  {
   "cell_type": "code",
   "execution_count": null,
   "metadata": {},
   "outputs": [],
   "source": [
    "create_dict(id_list, description, price, colour)"
   ]
  },
  {
   "cell_type": "code",
   "execution_count": null,
   "metadata": {},
   "outputs": [],
   "source": [
    "clothes = []\n",
    "driver = cookies()\n",
    "clothes.extend(get_links(driver))\n",
    "\n",
    "id_dict = {}\n",
    "\n",
    "\n",
    "for links in clothes:\n",
    "    driver.get(links)\n",
    "    for i in id_list :\n",
    "        description = driver.find_element_by_tag_name('h1').text\n",
    "        price = driver.find_element_by_xpath('//span[@data-id=\"current-price\"]').text\n",
    "        colour = driver.find_element_by_xpath('//span[@class=\"product-colour\"]').text\n",
    "        id_dict[i] = [description, price, colour] "
   ]
  },
  {
   "cell_type": "code",
   "execution_count": null,
   "metadata": {},
   "outputs": [],
   "source": [
    "def __get_data(self):\n",
    "    clothes = []\n",
    "    clothes.extend(self.get_links())\n",
    "\n",
    "    clothes_list = []\n",
    "\n",
    "    for links in clothes:\n",
    "        self.driver.get(links)\n",
    "        description = self.driver.find_element_by_tag_name('h1').text\n",
    "        price = self.driver.find_element_by_xpath('//span[@data-id=\"current-price\"]').text\n",
    "        colour = self.driver.find_element_by_xpath('//span[@class=\"product-colour\"]').text\n",
    "        id = self.create_id()\n",
    "        product_dict = self.__create_dict(id, description, price, colour)\n",
    "        clothes_list.append(product_dict)\n",
    "    \n",
    "    return clothes_list"
   ]
  },
  {
   "cell_type": "code",
   "execution_count": null,
   "metadata": {},
   "outputs": [],
   "source": []
  },
  {
   "cell_type": "code",
   "execution_count": null,
   "metadata": {},
   "outputs": [],
   "source": [
    "def create_file():\n",
    "    directory = 'raw_data'\n",
    "    parent_dir = '/Users/wadirmalik/Desktop/Data_Collection_Pipeline'\n",
    "    directory2 = 'Asos'\n",
    "\n",
    "    path = os.path.join(parent_dir, directory, directory2)\n",
    "\n",
    "    os.mkdir(path)\n",
    "\n"
   ]
  },
  {
   "cell_type": "code",
   "execution_count": null,
   "metadata": {},
   "outputs": [],
   "source": [
    "def save_to_file():    \n",
    "    directory2 = open(path + \"/id_dict.json\", \"w\")\n",
    "    directory2 = json.dump(id_dict, directory2)"
   ]
  },
  {
   "cell_type": "code",
   "execution_count": null,
   "metadata": {},
   "outputs": [],
   "source": [
    "class web_scraperTestCase(unittest.TestCase):\n",
    "\n",
    "    def test_get_links(self):\n",
    "        self.assertEqual(len(clothes), 72)\n",
    "\n",
    "    def test_create_id(self):\n",
    "        self.assertEqual(len(id_list), 72)\n",
    "\n",
    "    def test_get_data(self):\n",
    "        self.assertEqual(len(price_list), len(colour_list), len(description_list))\n",
    "\n",
    "    def test_create_dict(self):\n",
    "        self.assertIsInstance(id_dict, dict)\n",
    "\n",
    "unittest.main(argv=[''], verbosity=0, exit=False)"
   ]
  },
  {
   "cell_type": "code",
   "execution_count": null,
   "metadata": {},
   "outputs": [],
   "source": [
    "import boto3 \n",
    "s3_client = boto3.client('s3')"
   ]
  },
  {
   "cell_type": "code",
   "execution_count": null,
   "metadata": {},
   "outputs": [],
   "source": [
    "response = s3_client.upload_file('/Users/wadirmalik/Desktop/Data_Collection_Pipeline/raw_data/Asos/id_dict.json', 'scraperwadir', 'id_dict')"
   ]
  },
  {
   "cell_type": "code",
   "execution_count": null,
   "metadata": {},
   "outputs": [],
   "source": [
    "s3 = boto3.resource('s3')\n",
    "\n",
    "my_bucket = s3.Bucket('scraperwadir')\n",
    "\n",
    "for file in my_bucket.objects.all():\n",
    "    print(file.key)"
   ]
  },
  {
   "cell_type": "code",
   "execution_count": null,
   "metadata": {},
   "outputs": [],
   "source": [
    "import requests\n",
    "# Change this with your URL\n",
    "url = 'https://scraperwadir.s3.us-east-2.amazonaws.com/id_dict'\n",
    "\n",
    "response = requests.get(url)\n",
    "with open('id_dict', 'wb') as f:\n",
    "    f.write(response.content)"
   ]
  },
  {
   "cell_type": "code",
   "execution_count": 1,
   "metadata": {},
   "outputs": [
    {
     "name": "stdout",
     "output_type": "stream",
     "text": [
      "There are 72 items of clothing in this page\n",
      "There are 72 items of clothing in this page\n"
     ]
    }
   ],
   "source": [
    "from importlib.resources import path\n",
    "import web_scraper\n",
    "\n",
    "asos_scraper = web_scraper.Scraper()\n",
    "path, clothes_list = asos_scraper.run_scraper()\n",
    "#asos_scraper.save_to_file(path, clothes_list)"
   ]
  },
  {
   "cell_type": "code",
   "execution_count": 4,
   "metadata": {},
   "outputs": [],
   "source": [
    "from sqlalchemy import create_engine\n",
    "\n",
    "RDS_PASSWORD = 'afgangalo12'\n",
    "RDS_HOST = 'asos-scraper.c4xuwbscrnlq.us-east-2.rds.amazonaws.com'\n",
    "RDS_PORT = '5432' \n",
    "\n",
    "engine = create_engine(f'postgresql+psycopg2://postgres:{RDS_PASSWORD}@{RDS_HOST}:{RDS_PORT}/postgres')"
   ]
  },
  {
   "cell_type": "code",
   "execution_count": 5,
   "metadata": {},
   "outputs": [
    {
     "data": {
      "text/plain": [
       "<sqlalchemy.dialects.postgresql.base.PGInspector at 0x7ff191ad1d00>"
      ]
     },
     "execution_count": 5,
     "metadata": {},
     "output_type": "execute_result"
    }
   ],
   "source": [
    "from sqlalchemy import inspect\n",
    "\n",
    "inspect(engine)"
   ]
  },
  {
   "cell_type": "code",
   "execution_count": 6,
   "metadata": {},
   "outputs": [
    {
     "ename": "NameError",
     "evalue": "name 'pd' is not defined",
     "output_type": "error",
     "traceback": [
      "\u001b[0;31m---------------------------------------------------------------------------\u001b[0m",
      "\u001b[0;31mNameError\u001b[0m                                 Traceback (most recent call last)",
      "\u001b[0;32m/var/folders/t5/01pp2gxx13nbx8shn4k821yh0000gn/T/ipykernel_59301/945207466.py\u001b[0m in \u001b[0;36m<module>\u001b[0;34m\u001b[0m\n\u001b[0;32m----> 1\u001b[0;31m \u001b[0mdf\u001b[0m \u001b[0;34m=\u001b[0m \u001b[0mpd\u001b[0m\u001b[0;34m.\u001b[0m\u001b[0mDataFrame\u001b[0m\u001b[0;34m(\u001b[0m\u001b[0mclothes_list\u001b[0m\u001b[0;34m)\u001b[0m\u001b[0;34m\u001b[0m\u001b[0;34m\u001b[0m\u001b[0m\n\u001b[0m\u001b[1;32m      2\u001b[0m \u001b[0mdf\u001b[0m\u001b[0;34m.\u001b[0m\u001b[0mto_sql\u001b[0m\u001b[0;34m(\u001b[0m\u001b[0;34m'clothes_list'\u001b[0m\u001b[0;34m,\u001b[0m \u001b[0mengine\u001b[0m\u001b[0;34m,\u001b[0m \u001b[0mif_exists\u001b[0m\u001b[0;34m=\u001b[0m\u001b[0;34m'append'\u001b[0m\u001b[0;34m)\u001b[0m\u001b[0;34m\u001b[0m\u001b[0;34m\u001b[0m\u001b[0m\n",
      "\u001b[0;31mNameError\u001b[0m: name 'pd' is not defined"
     ]
    }
   ],
   "source": [
    "df = pd.DataFrame(clothes_list)\n",
    "df.to_sql('clothes_list', engine, if_exists='append')\n"
   ]
  },
  {
   "cell_type": "code",
   "execution_count": null,
   "metadata": {},
   "outputs": [],
   "source": []
  }
 ],
 "metadata": {
  "interpreter": {
   "hash": "95b842b22da2268d156facf78fe95bd6975c7cd745dc881e0c3b6a5fc31fd7c9"
  },
  "kernelspec": {
   "display_name": "Python 3.9.7 ('base')",
   "language": "python",
   "name": "python3"
  },
  "language_info": {
   "codemirror_mode": {
    "name": "ipython",
    "version": 3
   },
   "file_extension": ".py",
   "mimetype": "text/x-python",
   "name": "python",
   "nbconvert_exporter": "python",
   "pygments_lexer": "ipython3",
   "version": "3.9.7"
  },
  "orig_nbformat": 4
 },
 "nbformat": 4,
 "nbformat_minor": 2
}
